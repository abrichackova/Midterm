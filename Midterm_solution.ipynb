{
 "cells": [
  {
   "cell_type": "markdown",
   "metadata": {},
   "source": [
    "### PART1"
   ]
  },
  {
   "cell_type": "code",
   "execution_count": 2,
   "metadata": {},
   "outputs": [],
   "source": [
    "import numpy as np\n",
    "import pandas as pd\n",
    "import os\n",
    "import zipfile\n",
    "import requests\n",
    "import json \n",
    "from bs4 import BeautifulSoup \n",
    "import boto3 \n",
    "import time\n",
    "import seaborn as sns\n",
    "import matplotlib.pyplot as plt\n",
    "import datetime"
   ]
  },
  {
   "cell_type": "code",
   "execution_count": 3,
   "metadata": {},
   "outputs": [],
   "source": [
    "url = 'https://ies-fsv.s3.eu-central-1.amazonaws.com/studentsSets/45247808.zip'\n",
    "response = requests.get(url)\n",
    "\n",
    "with open('data.zip', 'wb') as file:\n",
    "    file.write(response.content)"
   ]
  },
  {
   "cell_type": "code",
   "execution_count": 4,
   "metadata": {},
   "outputs": [
    {
     "name": "stdout",
     "output_type": "stream",
     "text": [
      "['data/MU.csv', 'data/MCD.csv', 'data/LIN.csv', 'data/DXCM.csv']\n"
     ]
    }
   ],
   "source": [
    "zip_file_path = 'data.zip'\n",
    "with zipfile.ZipFile(zip_file_path, 'r') as z:\n",
    "    print(z.namelist())"
   ]
  },
  {
   "cell_type": "code",
   "execution_count": 9,
   "metadata": {},
   "outputs": [
    {
     "data": {
      "text/plain": [
       "['Midterm_solution.ipynb', '.DS_Store', 'data.zip', '.git', 'data']"
      ]
     },
     "execution_count": 9,
     "metadata": {},
     "output_type": "execute_result"
    }
   ],
   "source": [
    "os.listdir('.')"
   ]
  },
  {
   "cell_type": "code",
   "execution_count": 10,
   "metadata": {},
   "outputs": [],
   "source": [
    "df_MU=pd.read_csv('data/MU.csv',parse_dates=[\"Date\"], date_format=\"%d-%m-%y\")\n",
    "df_MCD=pd.read_csv('data/MCD.csv',parse_dates=[\"Date\"], date_format=\"%d-%m-%y\")\n",
    "df_LIN=pd.read_csv('data/LIN.csv',parse_dates=[\"Date\"], date_format=\"%d-%m-%y\")\n",
    "df_DXCM=pd.read_csv('data/DXCM.csv',parse_dates=[\"Date\"], date_format=\"%d-%m-%y\")"
   ]
  },
  {
   "cell_type": "code",
   "execution_count": 17,
   "metadata": {},
   "outputs": [],
   "source": [
    "df_MU['company']='MU'\n",
    "df_MCD['company']='MCD'\n",
    "df_LIN['company']='LIN'\n",
    "df_DXCM['company']='DXCM'"
   ]
  },
  {
   "cell_type": "code",
   "execution_count": 18,
   "metadata": {},
   "outputs": [
    {
     "data": {
      "text/html": [
       "<div>\n",
       "<style scoped>\n",
       "    .dataframe tbody tr th:only-of-type {\n",
       "        vertical-align: middle;\n",
       "    }\n",
       "\n",
       "    .dataframe tbody tr th {\n",
       "        vertical-align: top;\n",
       "    }\n",
       "\n",
       "    .dataframe thead th {\n",
       "        text-align: right;\n",
       "    }\n",
       "</style>\n",
       "<table border=\"1\" class=\"dataframe\">\n",
       "  <thead>\n",
       "    <tr style=\"text-align: right;\">\n",
       "      <th></th>\n",
       "      <th>Date</th>\n",
       "      <th>Open</th>\n",
       "      <th>High</th>\n",
       "      <th>Low</th>\n",
       "      <th>Close</th>\n",
       "      <th>Volume</th>\n",
       "      <th>Dividends</th>\n",
       "      <th>Stock Splits</th>\n",
       "      <th>company</th>\n",
       "    </tr>\n",
       "  </thead>\n",
       "  <tbody>\n",
       "    <tr>\n",
       "      <th>0</th>\n",
       "      <td>2017-01-03</td>\n",
       "      <td>21.632</td>\n",
       "      <td>22.289</td>\n",
       "      <td>21.613</td>\n",
       "      <td>22.103</td>\n",
       "      <td>24962900</td>\n",
       "      <td>0.0</td>\n",
       "      <td>0.0</td>\n",
       "      <td>MU</td>\n",
       "    </tr>\n",
       "    <tr>\n",
       "      <th>1</th>\n",
       "      <td>2017-01-04</td>\n",
       "      <td>22.220</td>\n",
       "      <td>22.387</td>\n",
       "      <td>21.809</td>\n",
       "      <td>21.917</td>\n",
       "      <td>20426800</td>\n",
       "      <td>0.0</td>\n",
       "      <td>0.0</td>\n",
       "      <td>MU</td>\n",
       "    </tr>\n",
       "    <tr>\n",
       "      <th>2</th>\n",
       "      <td>2017-01-05</td>\n",
       "      <td>21.956</td>\n",
       "      <td>22.122</td>\n",
       "      <td>21.524</td>\n",
       "      <td>21.671</td>\n",
       "      <td>19759400</td>\n",
       "      <td>0.0</td>\n",
       "      <td>0.0</td>\n",
       "      <td>MU</td>\n",
       "    </tr>\n",
       "    <tr>\n",
       "      <th>3</th>\n",
       "      <td>2017-01-06</td>\n",
       "      <td>21.828</td>\n",
       "      <td>21.838</td>\n",
       "      <td>21.544</td>\n",
       "      <td>21.603</td>\n",
       "      <td>17782200</td>\n",
       "      <td>0.0</td>\n",
       "      <td>0.0</td>\n",
       "      <td>MU</td>\n",
       "    </tr>\n",
       "    <tr>\n",
       "      <th>4</th>\n",
       "      <td>2017-01-09</td>\n",
       "      <td>21.505</td>\n",
       "      <td>22.103</td>\n",
       "      <td>21.505</td>\n",
       "      <td>21.897</td>\n",
       "      <td>21537200</td>\n",
       "      <td>0.0</td>\n",
       "      <td>0.0</td>\n",
       "      <td>MU</td>\n",
       "    </tr>\n",
       "  </tbody>\n",
       "</table>\n",
       "</div>"
      ],
      "text/plain": [
       "         Date    Open    High     Low   Close    Volume  Dividends  \\\n",
       "0  2017-01-03  21.632  22.289  21.613  22.103  24962900        0.0   \n",
       "1  2017-01-04  22.220  22.387  21.809  21.917  20426800        0.0   \n",
       "2  2017-01-05  21.956  22.122  21.524  21.671  19759400        0.0   \n",
       "3  2017-01-06  21.828  21.838  21.544  21.603  17782200        0.0   \n",
       "4  2017-01-09  21.505  22.103  21.505  21.897  21537200        0.0   \n",
       "\n",
       "   Stock Splits company  \n",
       "0           0.0      MU  \n",
       "1           0.0      MU  \n",
       "2           0.0      MU  \n",
       "3           0.0      MU  \n",
       "4           0.0      MU  "
      ]
     },
     "execution_count": 18,
     "metadata": {},
     "output_type": "execute_result"
    }
   ],
   "source": [
    "df_MU.head()"
   ]
  },
  {
   "cell_type": "code",
   "execution_count": 19,
   "metadata": {},
   "outputs": [
    {
     "data": {
      "text/html": [
       "<div>\n",
       "<style scoped>\n",
       "    .dataframe tbody tr th:only-of-type {\n",
       "        vertical-align: middle;\n",
       "    }\n",
       "\n",
       "    .dataframe tbody tr th {\n",
       "        vertical-align: top;\n",
       "    }\n",
       "\n",
       "    .dataframe thead th {\n",
       "        text-align: right;\n",
       "    }\n",
       "</style>\n",
       "<table border=\"1\" class=\"dataframe\">\n",
       "  <thead>\n",
       "    <tr style=\"text-align: right;\">\n",
       "      <th></th>\n",
       "      <th>Date</th>\n",
       "      <th>Open</th>\n",
       "      <th>High</th>\n",
       "      <th>Low</th>\n",
       "      <th>Close</th>\n",
       "      <th>Volume</th>\n",
       "      <th>Dividends</th>\n",
       "      <th>Stock Splits</th>\n",
       "      <th>company</th>\n",
       "    </tr>\n",
       "  </thead>\n",
       "  <tbody>\n",
       "    <tr>\n",
       "      <th>0</th>\n",
       "      <td>2017-01-03</td>\n",
       "      <td>101.373</td>\n",
       "      <td>101.490</td>\n",
       "      <td>98.961</td>\n",
       "      <td>99.510</td>\n",
       "      <td>5123800</td>\n",
       "      <td>0.0</td>\n",
       "      <td>0.0</td>\n",
       "      <td>MCD</td>\n",
       "    </tr>\n",
       "    <tr>\n",
       "      <th>1</th>\n",
       "      <td>2017-01-04</td>\n",
       "      <td>98.994</td>\n",
       "      <td>99.610</td>\n",
       "      <td>98.312</td>\n",
       "      <td>99.393</td>\n",
       "      <td>3780800</td>\n",
       "      <td>0.0</td>\n",
       "      <td>0.0</td>\n",
       "      <td>MCD</td>\n",
       "    </tr>\n",
       "    <tr>\n",
       "      <th>2</th>\n",
       "      <td>2017-01-05</td>\n",
       "      <td>99.277</td>\n",
       "      <td>99.992</td>\n",
       "      <td>99.077</td>\n",
       "      <td>99.576</td>\n",
       "      <td>4261100</td>\n",
       "      <td>0.0</td>\n",
       "      <td>0.0</td>\n",
       "      <td>MCD</td>\n",
       "    </tr>\n",
       "    <tr>\n",
       "      <th>3</th>\n",
       "      <td>2017-01-06</td>\n",
       "      <td>98.936</td>\n",
       "      <td>101.074</td>\n",
       "      <td>98.595</td>\n",
       "      <td>100.458</td>\n",
       "      <td>4089200</td>\n",
       "      <td>0.0</td>\n",
       "      <td>0.0</td>\n",
       "      <td>MCD</td>\n",
       "    </tr>\n",
       "    <tr>\n",
       "      <th>4</th>\n",
       "      <td>2017-01-09</td>\n",
       "      <td>100.458</td>\n",
       "      <td>100.708</td>\n",
       "      <td>100.100</td>\n",
       "      <td>100.184</td>\n",
       "      <td>3021800</td>\n",
       "      <td>0.0</td>\n",
       "      <td>0.0</td>\n",
       "      <td>MCD</td>\n",
       "    </tr>\n",
       "  </tbody>\n",
       "</table>\n",
       "</div>"
      ],
      "text/plain": [
       "         Date     Open     High      Low    Close   Volume  Dividends  \\\n",
       "0  2017-01-03  101.373  101.490   98.961   99.510  5123800        0.0   \n",
       "1  2017-01-04   98.994   99.610   98.312   99.393  3780800        0.0   \n",
       "2  2017-01-05   99.277   99.992   99.077   99.576  4261100        0.0   \n",
       "3  2017-01-06   98.936  101.074   98.595  100.458  4089200        0.0   \n",
       "4  2017-01-09  100.458  100.708  100.100  100.184  3021800        0.0   \n",
       "\n",
       "   Stock Splits company  \n",
       "0           0.0     MCD  \n",
       "1           0.0     MCD  \n",
       "2           0.0     MCD  \n",
       "3           0.0     MCD  \n",
       "4           0.0     MCD  "
      ]
     },
     "execution_count": 19,
     "metadata": {},
     "output_type": "execute_result"
    }
   ],
   "source": [
    "df_MCD.head()"
   ]
  },
  {
   "cell_type": "code",
   "execution_count": 20,
   "metadata": {},
   "outputs": [
    {
     "data": {
      "text/html": [
       "<div>\n",
       "<style scoped>\n",
       "    .dataframe tbody tr th:only-of-type {\n",
       "        vertical-align: middle;\n",
       "    }\n",
       "\n",
       "    .dataframe tbody tr th {\n",
       "        vertical-align: top;\n",
       "    }\n",
       "\n",
       "    .dataframe thead th {\n",
       "        text-align: right;\n",
       "    }\n",
       "</style>\n",
       "<table border=\"1\" class=\"dataframe\">\n",
       "  <thead>\n",
       "    <tr style=\"text-align: right;\">\n",
       "      <th></th>\n",
       "      <th>Date</th>\n",
       "      <th>Open</th>\n",
       "      <th>High</th>\n",
       "      <th>Low</th>\n",
       "      <th>Close</th>\n",
       "      <th>Volume</th>\n",
       "      <th>Dividends</th>\n",
       "      <th>Stock Splits</th>\n",
       "      <th>company</th>\n",
       "    </tr>\n",
       "  </thead>\n",
       "  <tbody>\n",
       "    <tr>\n",
       "      <th>0</th>\n",
       "      <td>2017-01-03</td>\n",
       "      <td>21.632</td>\n",
       "      <td>22.289</td>\n",
       "      <td>21.613</td>\n",
       "      <td>22.103</td>\n",
       "      <td>24962900</td>\n",
       "      <td>0.0</td>\n",
       "      <td>0.0</td>\n",
       "      <td>MU</td>\n",
       "    </tr>\n",
       "    <tr>\n",
       "      <th>3020</th>\n",
       "      <td>2017-01-03</td>\n",
       "      <td>103.284</td>\n",
       "      <td>103.503</td>\n",
       "      <td>101.664</td>\n",
       "      <td>102.347</td>\n",
       "      <td>2364200</td>\n",
       "      <td>0.0</td>\n",
       "      <td>0.0</td>\n",
       "      <td>LIN</td>\n",
       "    </tr>\n",
       "    <tr>\n",
       "      <th>4530</th>\n",
       "      <td>2017-01-03</td>\n",
       "      <td>14.875</td>\n",
       "      <td>14.913</td>\n",
       "      <td>14.440</td>\n",
       "      <td>14.562</td>\n",
       "      <td>5717200</td>\n",
       "      <td>0.0</td>\n",
       "      <td>0.0</td>\n",
       "      <td>DXCM</td>\n",
       "    </tr>\n",
       "    <tr>\n",
       "      <th>1510</th>\n",
       "      <td>2017-01-03</td>\n",
       "      <td>101.373</td>\n",
       "      <td>101.490</td>\n",
       "      <td>98.961</td>\n",
       "      <td>99.510</td>\n",
       "      <td>5123800</td>\n",
       "      <td>0.0</td>\n",
       "      <td>0.0</td>\n",
       "      <td>MCD</td>\n",
       "    </tr>\n",
       "    <tr>\n",
       "      <th>1</th>\n",
       "      <td>2017-01-04</td>\n",
       "      <td>22.220</td>\n",
       "      <td>22.387</td>\n",
       "      <td>21.809</td>\n",
       "      <td>21.917</td>\n",
       "      <td>20426800</td>\n",
       "      <td>0.0</td>\n",
       "      <td>0.0</td>\n",
       "      <td>MU</td>\n",
       "    </tr>\n",
       "  </tbody>\n",
       "</table>\n",
       "</div>"
      ],
      "text/plain": [
       "            Date     Open     High      Low    Close    Volume  Dividends  \\\n",
       "0     2017-01-03   21.632   22.289   21.613   22.103  24962900        0.0   \n",
       "3020  2017-01-03  103.284  103.503  101.664  102.347   2364200        0.0   \n",
       "4530  2017-01-03   14.875   14.913   14.440   14.562   5717200        0.0   \n",
       "1510  2017-01-03  101.373  101.490   98.961   99.510   5123800        0.0   \n",
       "1     2017-01-04   22.220   22.387   21.809   21.917  20426800        0.0   \n",
       "\n",
       "      Stock Splits company  \n",
       "0              0.0      MU  \n",
       "3020           0.0     LIN  \n",
       "4530           0.0    DXCM  \n",
       "1510           0.0     MCD  \n",
       "1              0.0      MU  "
      ]
     },
     "execution_count": 20,
     "metadata": {},
     "output_type": "execute_result"
    }
   ],
   "source": [
    "df_merged=pd.concat([df_MU,df_MCD,df_LIN,df_DXCM], axis=0, ignore_index=True).sort_values('Date')\n",
    "df_merged.head()"
   ]
  },
  {
   "cell_type": "markdown",
   "metadata": {},
   "source": [
    "#### TASK1"
   ]
  },
  {
   "cell_type": "code",
   "execution_count": null,
   "metadata": {},
   "outputs": [],
   "source": []
  },
  {
   "cell_type": "markdown",
   "metadata": {},
   "source": []
  }
 ],
 "metadata": {
  "kernelspec": {
   "display_name": "Python 3",
   "language": "python",
   "name": "python3"
  },
  "language_info": {
   "codemirror_mode": {
    "name": "ipython",
    "version": 3
   },
   "file_extension": ".py",
   "mimetype": "text/x-python",
   "name": "python",
   "nbconvert_exporter": "python",
   "pygments_lexer": "ipython3",
   "version": "3.12.7"
  }
 },
 "nbformat": 4,
 "nbformat_minor": 2
}
